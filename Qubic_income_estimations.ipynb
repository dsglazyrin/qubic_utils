{
  "nbformat": 4,
  "nbformat_minor": 0,
  "metadata": {
    "colab": {
      "provenance": [],
      "authorship_tag": "ABX9TyOvZJ7HQOqnGzm0m9K3+O3r",
      "include_colab_link": true
    },
    "kernelspec": {
      "name": "python3",
      "display_name": "Python 3"
    },
    "language_info": {
      "name": "python"
    }
  },
  "cells": [
    {
      "cell_type": "markdown",
      "metadata": {
        "id": "view-in-github",
        "colab_type": "text"
      },
      "source": [
        "<a href=\"https://colab.research.google.com/github/dsglazyrin/qubic_utils/blob/main/Qubic_income_estimations.ipynb\" target=\"_parent\"><img src=\"https://colab.research.google.com/assets/colab-badge.svg\" alt=\"Open In Colab\"/></a>"
      ]
    },
    {
      "cell_type": "markdown",
      "source": [
        "All calculations are based on:\n",
        "\n",
        "*   Qubic price by Coingecko: https://www.coingecko.com/en/coins/qubic-network\n",
        "*   Network stats provided by Qubic.li project (https://app.qubic.li/scores)\n",
        "\n",
        "\n",
        "Hashrate for different type of hardware can be found here: https://docs.google.com/spreadsheets/d/1y4rRoD53Mc6gec26-hIj4s3d8AuX_n0Mtvovp3F_HPA\n",
        "\n",
        "\n",
        "**PLEASE KEEP IN MIND**\n",
        "Qubic rewards are paid after epoch end (each wen 12:00 UTC).\n",
        "Your income at the end of epoch can and will be strongly\n",
        "affected by prices and network size changes\n",
        "\n",
        "To calculate you estimated income:\n",
        "\n",
        "1.   Copy this doc to your google docs\n",
        "2.   Change the value on myHashrate down below and run all the script\n",
        "\n",
        "\n"
      ],
      "metadata": {
        "id": "ojAwiKVFJbxy"
      }
    },
    {
      "cell_type": "markdown",
      "source": [],
      "metadata": {
        "id": "e9odasUPO3gp"
      }
    },
    {
      "cell_type": "code",
      "source": [
        "#enter you total hashrate of your rigs here (in it/s)\n",
        "myHashrate = 10000\n",
        "\n",
        "\n",
        "\n",
        "#doing the math\n",
        "import sys\n",
        "!{sys.executable} -m pip install pycoingecko\n",
        "import requests\n",
        "import json\n",
        "from datetime import datetime, timedelta\n",
        "from pycoingecko import CoinGeckoAPI\n",
        "\n",
        "rBody = {'userName': 'guest@qubic.li', 'password': 'guest13@Qubic.li', 'twoFactorCode': ''}\n",
        "rHeaders = {'Accept': 'application/json', 'Content-Type': 'application/json-patch+json'}\n",
        "r = requests.post('https://api.qubic.li/Auth/Login', data=json.dumps(rBody), headers=rHeaders)\n",
        "token = r.json()['token']\n",
        "rHeaders = {'Accept': 'application/json', 'Authorization': 'Bearer ' + token}\n",
        "r = requests.get('https://api.qubic.li/Score/Get', headers=rHeaders)\n",
        "networkStat = r.json()\n",
        "\n",
        "epochNumber = networkStat['scoreStatistics'][0]['epoch']\n",
        "epoch97Begin = date_time_obj = datetime.strptime('2024-02-21 12:00:00', '%Y-%m-%d %H:%M:%S')\n",
        "curEpochBegin = epoch97Begin + timedelta(days=7 * (epochNumber - 97))\n",
        "curEpochEnd = curEpochBegin + timedelta(days=7) - timedelta(seconds=1)\n",
        "curEpochProgress = (datetime.utcnow() - curEpochBegin) / timedelta(days=7)\n",
        "\n",
        "netHashrate = networkStat['estimatedIts']\n",
        "netAvgScores = networkStat['averageScore']\n",
        "netSolsPerHour = networkStat['solutionsPerHour']\n",
        "\n",
        "crypto_currency = 'qubic-network'\n",
        "destination_currency = 'usd'\n",
        "cg_client = CoinGeckoAPI()\n",
        "prices = cg_client.get_price(ids=crypto_currency, vs_currencies=destination_currency)\n",
        "qubicPrice = prices[crypto_currency][destination_currency]\n",
        "poolReward = 0.85\n",
        "incomerPerOneITS = poolReward * qubicPrice * 1000000000000 / netHashrate / 7 / 1.06\n",
        "curSolPrice = 1479289940 * poolReward * curEpochProgress * qubicPrice / (netAvgScores * 1.06)\n",
        "\n",
        "\n",
        "print('\\n\\nCurrent epoch info:')\n",
        "print('Current epoch:',  epochNumber)\n",
        "print('Epoch start UTC:',  curEpochBegin)\n",
        "print('Epoch end UTC:',  curEpochEnd)\n",
        "print('Epoch progress:',  '{:.1f}%\\n'.format(100 * curEpochProgress))\n",
        "print('Network info:')\n",
        "print('Estimated network hashrate:', '{0:,}'.format(netHashrate).replace(',', ' '), 'it/s')\n",
        "print('Average score:',  '{:.1f}'.format(netAvgScores))\n",
        "print('Scores per hour:',  '{:.1f}\\n'.format(netSolsPerHour))\n",
        "print('Income estimations:')\n",
        "print('Using pool with fixed 85% reward\\n')\n",
        "print('Qubic price: {:.8f}$'.format(qubicPrice))\n",
        "print('Estimated income per 1 it/s per day:', '{:.4f}$\\n'.format(incomerPerOneITS))\n",
        "print('Your estimated income per day:', '{:.2f}$'.format(myHashrate * incomerPerOneITS))\n",
        "print('Estimated income per 1 sol:', '{:.2f}$'.format(curSolPrice))\n",
        "print('Your estimated sols per day:', '{:.1f}\\n\\n'.format(24 * myHashrate * netSolsPerHour / netHashrate))"
      ],
      "metadata": {
        "colab": {
          "base_uri": "https://localhost:8080/"
        },
        "id": "BsdAMDecI3ci",
        "outputId": "56749643-31bf-42d3-a4e7-a19db0655533"
      },
      "execution_count": null,
      "outputs": [
        {
          "output_type": "stream",
          "name": "stdout",
          "text": [
            "Requirement already satisfied: pycoingecko in /usr/local/lib/python3.10/dist-packages (3.1.0)\n",
            "Requirement already satisfied: requests in /usr/local/lib/python3.10/dist-packages (from pycoingecko) (2.31.0)\n",
            "Requirement already satisfied: charset-normalizer<4,>=2 in /usr/local/lib/python3.10/dist-packages (from requests->pycoingecko) (3.3.2)\n",
            "Requirement already satisfied: idna<4,>=2.5 in /usr/local/lib/python3.10/dist-packages (from requests->pycoingecko) (3.6)\n",
            "Requirement already satisfied: urllib3<3,>=1.21.1 in /usr/local/lib/python3.10/dist-packages (from requests->pycoingecko) (2.0.7)\n",
            "Requirement already satisfied: certifi>=2017.4.17 in /usr/local/lib/python3.10/dist-packages (from requests->pycoingecko) (2024.2.2)\n",
            "\n",
            "\n",
            "Current epoch info:\n",
            "Current epoch: 97\n",
            "Epoch start UTC: 2024-02-21 12:00:00\n",
            "Epoch end UTC: 2024-02-28 11:59:59\n",
            "Epoch progress: 43.4%\n",
            "\n",
            "Network info:\n",
            "Estimated network hashrate: 160 485 969 it/s\n",
            "Average score: 1445.0\n",
            "Scores per hour: 13427.0\n",
            "\n",
            "Income estimations:\n",
            "Using pool with fixed 85% reward\n",
            "\n",
            "Qubic price: 0.00000655$\n",
            "Estimated income per 1 it/s per day: 0.0047$\n",
            "\n",
            "Your estimated income per day: 46.75$\n",
            "Estimated income per 1 sol: 2.33$\n",
            "Your estimated sols per day: 20.1\n",
            "\n",
            "\n"
          ]
        }
      ]
    }
  ]
}